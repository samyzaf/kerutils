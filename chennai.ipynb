{
  "cells": [
    {
      "cell_type": "markdown",
      "metadata": {
        "id": "view-in-github",
        "colab_type": "text"
      },
      "source": [
        "<a href=\"https://colab.research.google.com/github/samyzaf/kerutils/blob/master/chennai.ipynb\" target=\"_parent\"><img src=\"https://colab.research.google.com/assets/colab-badge.svg\" alt=\"Open In Colab\"/></a>"
      ]
    },
    {
      "cell_type": "markdown",
      "metadata": {
        "id": "_psqOIQ2FUyW"
      },
      "source": [
        "# **Sentiment Analysis of Twitter Posts on Chennai Floods using Python**\n",
        "\n",
        "\n",
        "<img src=\"https://samyzaf.com/ML/chennai/Chennai_1.jpg\" width=\"75%\" />\n",
        "\n",
        "\n",
        "**Author: Yogesh Kulkarni**\n",
        "<br/>\n",
        "Source:\n",
        "https://www.analyticsvidhya.com/blog/2017/01/sentiment-analysis-of-twitter-posts-on-chennai-floods-using-python\n",
        "<br>\n",
        "Thanks Eran Shlomo for posting it to Linkedin\n",
        "<br/>\n",
        "Converted and annotated to a IPython notebook: Samy Zafrany\n",
        "\n",
        "### **Important Note!**\n",
        "This notebook is currently not working due to a usage of\n",
        "the outdated **GetOldTweets3** library, and due to changes and\n",
        "limitations in Twitter's API or its terms of service,\n",
        "which might have rendered GetOldTweets3 incompatible with the current API access requirements.\n",
        "\n",
        "It need to be fixed by using a more up-to-date X scraping library like **snscrape** or **tweepy**, which are better maintained\n",
        "and more likely to support the latest Twitter API requirements.\n",
        "Special X usage privilages may also be required to scprape a\n",
        "large amount of tweets.\n",
        "\n",
        "## **Introduction**\n",
        "\n",
        "* The best way to learn data science is to **do data science**. No second thought about it!\n",
        "\n",
        "* One of the ways, I do this is continuously look for interesting work done by other community members. Once I understand the project, I do / improve the project on my own. Honestly, I can’t think of a better way to learn data science.\n",
        "\n",
        "* As part of my search, I came across a study on\n",
        "[sentiment analysis of Chennai Floods](https://www.analyticsvidhya.com/blog/2016/07/capstone-project/)\n",
        "on Analytics Vidhya. I decided to perform sentiment analysis of the same study using Python and add it here. Well, what can be better than building onto something great.\n",
        "\n",
        "* To get acquainted with the crisis of Chennai Floods, 2015 you can read the complete\n",
        "[study](https://www.analyticsvidhya.com/blog/2016/07/capstone-project)\n",
        "here. This study was done on a set of social interactions limited to the first two days of Chennai Floods in December 2015.\n",
        "\n",
        "* The objectives of this article is to understand the different subjects of interactions during the floods using Python. Grouping similar messages together with emphasis on predominant themes (rescue, food, supplies, ambulance calls) can help government and other authorities to act in the right manner during the crisis time."
      ]
    },
    {
      "cell_type": "markdown",
      "metadata": {
        "id": "vOVom_8iFUyc"
      },
      "source": [
        "## **Building Corpus**\n",
        "\n",
        "A typical tweet is mostly a text message within limit of 140\n",
        "characters.\n",
        "\\#hashtags convey subject of the tweet whereas @user seeks\n",
        "attention of that user.\n",
        "Forwarding is denoted by ‘rt’ (retweet) and is a measure\n",
        "of its popularity.\n",
        "One can like a tweet by making it ‘favorite’.\n",
        "\n",
        "About 6000 twits were collected with ‘#ChennaiFloods’ hashtag and between 1st and 2nd Dec 2015.\n",
        "Jefferson’s GetOldTweets utility (got) was used in\n",
        "Python 2.7 to collect the older tweets.\n",
        "One can store the tweets either in a csv file or to a\n",
        "database like MongoDb to be used for\n",
        "further processing.\n",
        "\n",
        "The **GetOldTweets3 (got)** Python module can be downloaded\n",
        "from:\n",
        "https://github.com/Jefferson-Henrique/GetOldTweets-python\n",
        "\n",
        "Note that you will also need to download Mongo\n",
        "from https://www.mongodb.com\n",
        "and run a mongo server on your pc."
      ]
    },
    {
      "cell_type": "code",
      "execution_count": null,
      "metadata": {
        "scrolled": true,
        "id": "9HLWIkgnFUyc",
        "outputId": "5dc3893d-9ca0-4980-9593-2b5832d6e1cf"
      },
      "outputs": [
        {
          "data": {
            "text/plain": []
          },
          "execution_count": 14,
          "metadata": {},
          "output_type": "execute_result"
        }
      ],
      "source": [
        "%pip install GetOldTweets3\n",
        "%pip install pymongo"
      ]
    },
    {
      "cell_type": "code",
      "source": [
        "import GetOldTweets3 as got\n",
        "from pymongo import MongoClient"
      ],
      "metadata": {
        "id": "EpLww5V8kN8t"
      },
      "execution_count": null,
      "outputs": []
    },
    {
      "cell_type": "code",
      "source": [
        "client = MongoClient('localhost', 27017)\n",
        "db = client['twitter_db']\n",
        "collection = db['twitter_collection']\n",
        "\n",
        "def streamTweets(tweets):\n",
        "   for t in tweets:\n",
        "      obj = {\"user\": t.username, \"retweets\": t.retweets, \"favorites\":\n",
        "            t.favorites, \"text\":t.text,\"geo\": t.geo,\"mentions\":\n",
        "            t.mentions, \"hashtags\": t.hashtags,\"id\": t.id,\n",
        "            \"permalink\": t.permalink,}\n",
        "      tweetind = collection.insert_one(obj).inserted_id"
      ],
      "metadata": {
        "id": "W6m9tuPykRZk"
      },
      "execution_count": null,
      "outputs": []
    },
    {
      "cell_type": "code",
      "source": [
        "tweetCriteria = (\n",
        "    got.manager.TweetCriteria()\n",
        "               .setQuerySearch('ChennaiFloods')\n",
        "               .setSince(\"2015-12-01\")\n",
        "               .setUntil(\"2015-12-02\")\n",
        "               .setMaxTweets(6000)\n",
        ")\n",
        "\n",
        "got.manager.TweetManager.getTweets(tweetCriteria, streamTweets);"
      ],
      "metadata": {
        "id": "c6lHUKSdkYzU"
      },
      "execution_count": null,
      "outputs": []
    },
    {
      "cell_type": "markdown",
      "metadata": {
        "id": "7x-3rKHyFUyc"
      },
      "source": [
        "Tweets stored in MongoDB can be accessed from another python script.\n",
        "Following example shows how the whole db was converted to a Pandas DataFrame."
      ]
    },
    {
      "cell_type": "code",
      "execution_count": null,
      "metadata": {
        "collapsed": true,
        "id": "Zg6T-MwWFUyd"
      },
      "outputs": [],
      "source": [
        "import pandas as pd\n",
        "from pymongo import MongoClient\n",
        "client = MongoClient('localhost', 27017)\n",
        "db = client['twitter_db']\n",
        "collection = db['twitter_collection']\n",
        "df = pd.DataFrame(list(collection.find()))"
      ]
    },
    {
      "cell_type": "markdown",
      "metadata": {
        "id": "fL1CZLQZFUyd"
      },
      "source": [
        "Take a look at the 6 first records of this dataframe"
      ]
    },
    {
      "cell_type": "code",
      "execution_count": null,
      "metadata": {
        "id": "7lNj8mesFUye",
        "outputId": "ec173404-9d57-4896-872d-3b6213dadb7d"
      },
      "outputs": [
        {
          "data": {
            "text/html": [
              "<div>\n",
              "<table border=\"1\" class=\"dataframe\">\n",
              "  <thead>\n",
              "    <tr style=\"text-align: right;\">\n",
              "      <th></th>\n",
              "      <th>_id</th>\n",
              "      <th>favorites</th>\n",
              "      <th>geo</th>\n",
              "      <th>hashtags</th>\n",
              "      <th>id</th>\n",
              "      <th>mentions</th>\n",
              "      <th>permalink</th>\n",
              "      <th>retweets</th>\n",
              "      <th>text</th>\n",
              "      <th>user</th>\n",
              "    </tr>\n",
              "  </thead>\n",
              "  <tbody>\n",
              "    <tr>\n",
              "      <th>0</th>\n",
              "      <td>587fd89acfc336a1dcbd23ce</td>\n",
              "      <td>10</td>\n",
              "      <td></td>\n",
              "      <td>#ICanAccommodate #chennairains #ChennaiFloods</td>\n",
              "      <td>671775692539994115</td>\n",
              "      <td></td>\n",
              "      <td>https://twitter.com/SirJadeja/status/671775692...</td>\n",
              "      <td>24</td>\n",
              "      <td>#ICanAccommodate #chennairains #ChennaiFloods ...</td>\n",
              "      <td>SirJadeja</td>\n",
              "    </tr>\n",
              "    <tr>\n",
              "      <th>1</th>\n",
              "      <td>587fd89acfc336a1dcbd23cf</td>\n",
              "      <td>7</td>\n",
              "      <td></td>\n",
              "      <td>#ICanAccommodate #chennairains #ChennaiFloods</td>\n",
              "      <td>671776057121480706</td>\n",
              "      <td></td>\n",
              "      <td>https://twitter.com/SirJadeja/status/671776057...</td>\n",
              "      <td>15</td>\n",
              "      <td>#ICanAccommodate #chennairains #ChennaiFloods ...</td>\n",
              "      <td>SirJadeja</td>\n",
              "    </tr>\n",
              "    <tr>\n",
              "      <th>2</th>\n",
              "      <td>587fd89acfc336a1dcbd23d0</td>\n",
              "      <td>16</td>\n",
              "      <td></td>\n",
              "      <td>#ChennaiFloods</td>\n",
              "      <td>668125434760921088</td>\n",
              "      <td></td>\n",
              "      <td>https://twitter.com/Mayankaryan084/status/6681...</td>\n",
              "      <td>49</td>\n",
              "      <td>First time in history tirupati balaji temple i...</td>\n",
              "      <td>Mayankaryan084</td>\n",
              "    </tr>\n",
              "    <tr>\n",
              "      <th>3</th>\n",
              "      <td>587fd89acfc336a1dcbd23d1</td>\n",
              "      <td>9</td>\n",
              "      <td></td>\n",
              "      <td>#ICanAccommodate #chennairains #ChennaiFloods</td>\n",
              "      <td>671776149752647680</td>\n",
              "      <td></td>\n",
              "      <td>https://twitter.com/SirJadeja/status/671776149...</td>\n",
              "      <td>28</td>\n",
              "      <td>#ICanAccommodate #chennairains #ChennaiFloods ...</td>\n",
              "      <td>SirJadeja</td>\n",
              "    </tr>\n",
              "    <tr>\n",
              "      <th>4</th>\n",
              "      <td>587fd89acfc336a1dcbd23d2</td>\n",
              "      <td>0</td>\n",
              "      <td></td>\n",
              "      <td>#ChennaiFloods</td>\n",
              "      <td>671841135778598914</td>\n",
              "      <td></td>\n",
              "      <td>https://twitter.com/deeepakkher/status/6718411...</td>\n",
              "      <td>0</td>\n",
              "      <td>#ChennaiFloods havoc caused by incessant rains...</td>\n",
              "      <td>deeepakkher</td>\n",
              "    </tr>\n",
              "    <tr>\n",
              "      <th>5</th>\n",
              "      <td>587fd89acfc336a1dcbd23d3</td>\n",
              "      <td>0</td>\n",
              "      <td></td>\n",
              "      <td>#ChennaiFloods #chennairainshelp #chennairains</td>\n",
              "      <td>671841120574312448</td>\n",
              "      <td></td>\n",
              "      <td>https://twitter.com/sreeni94/status/6718411205...</td>\n",
              "      <td>9</td>\n",
              "      <td>Blankets....Bread.. Biscuits PL Share #Chennai...</td>\n",
              "      <td>sreeni94</td>\n",
              "    </tr>\n",
              "  </tbody>\n",
              "</table>\n",
              "</div>"
            ],
            "text/plain": [
              "                        _id  favorites geo  \\\n",
              "0  587fd89acfc336a1dcbd23ce         10       \n",
              "1  587fd89acfc336a1dcbd23cf          7       \n",
              "2  587fd89acfc336a1dcbd23d0         16       \n",
              "3  587fd89acfc336a1dcbd23d1          9       \n",
              "4  587fd89acfc336a1dcbd23d2          0       \n",
              "5  587fd89acfc336a1dcbd23d3          0       \n",
              "\n",
              "                                         hashtags                  id  \\\n",
              "0   #ICanAccommodate #chennairains #ChennaiFloods  671775692539994115   \n",
              "1   #ICanAccommodate #chennairains #ChennaiFloods  671776057121480706   \n",
              "2                                  #ChennaiFloods  668125434760921088   \n",
              "3   #ICanAccommodate #chennairains #ChennaiFloods  671776149752647680   \n",
              "4                                  #ChennaiFloods  671841135778598914   \n",
              "5  #ChennaiFloods #chennairainshelp #chennairains  671841120574312448   \n",
              "\n",
              "  mentions                                          permalink  retweets  \\\n",
              "0           https://twitter.com/SirJadeja/status/671775692...        24   \n",
              "1           https://twitter.com/SirJadeja/status/671776057...        15   \n",
              "2           https://twitter.com/Mayankaryan084/status/6681...        49   \n",
              "3           https://twitter.com/SirJadeja/status/671776149...        28   \n",
              "4           https://twitter.com/deeepakkher/status/6718411...         0   \n",
              "5           https://twitter.com/sreeni94/status/6718411205...         9   \n",
              "\n",
              "                                                text            user  \n",
              "0  #ICanAccommodate #chennairains #ChennaiFloods ...       SirJadeja  \n",
              "1  #ICanAccommodate #chennairains #ChennaiFloods ...       SirJadeja  \n",
              "2  First time in history tirupati balaji temple i...  Mayankaryan084  \n",
              "3  #ICanAccommodate #chennairains #ChennaiFloods ...       SirJadeja  \n",
              "4  #ChennaiFloods havoc caused by incessant rains...     deeepakkher  \n",
              "5  Blankets....Bread.. Biscuits PL Share #Chennai...        sreeni94  "
            ]
          },
          "execution_count": 17,
          "metadata": {},
          "output_type": "execute_result"
        }
      ],
      "source": [
        "df.head(6)"
      ]
    },
    {
      "cell_type": "markdown",
      "metadata": {
        "id": "CEV3sCtzFUye"
      },
      "source": [
        "# **Data Exploration**\n",
        "\n",
        "Once in dataframe format, it is easier to explore the data. Here are few examples:"
      ]
    },
    {
      "cell_type": "code",
      "execution_count": null,
      "metadata": {
        "id": "LGbCi8-cFUyf",
        "outputId": "ba2ed2f9-3b13-4221-e866-6c9d83a4e6be"
      },
      "outputs": [
        {
          "data": {
            "image/png": "[encoded data removed]",
            "text/plain": [
              "<matplotlib.figure.Figure at 0x10c18ac8>"
            ]
          },
          "metadata": {},
          "output_type": "display_data"
        }
      ],
      "source": [
        "# FreqDist = Frequency Distribution of words list\n",
        "from nltk import FreqDist\n",
        "hashtags = []\n",
        "for hs in df[\"hashtags\"]: # Each entry may contain multiple hashtags. We need to split.\n",
        "       hashtags += hs.split(\" \")\n",
        "hashtag_dist = FreqDist(hashtags)\n",
        "hashtag_dist.plot(10)"
      ]
    },
    {
      "cell_type": "markdown",
      "metadata": {
        "id": "oafJjbfvFUyf"
      },
      "source": [
        "As seen in the\n",
        "[study](https://www.analyticsvidhya.com/blog/2016/07/capstone-project)\n",
        "the most used tags were “#chennairains”, “#ICanAccommodate”, apart from the original query tag “#ChennaiFloods”."
      ]
    },
    {
      "cell_type": "markdown",
      "metadata": {
        "id": "ihL-YRpcFUyf"
      },
      "source": [
        "## **Top 10 users**"
      ]
    },
    {
      "cell_type": "code",
      "execution_count": null,
      "metadata": {
        "id": "KuSWkjgUFUyg",
        "outputId": "6b03e860-643a-43a6-e20e-753b940cd91f"
      },
      "outputs": [
        {
          "data": {
            "image/png": "[encoded data removed]",
            "text/plain": [
              "<matplotlib.figure.Figure at 0x10f65ac8>"
            ]
          },
          "metadata": {},
          "output_type": "display_data"
        }
      ],
      "source": [
        "users = df[\"user\"].tolist()\n",
        "users_dist = FreqDist(users)\n",
        "users_dist.plot(10)"
      ]
    },
    {
      "cell_type": "markdown",
      "metadata": {
        "id": "CAKPUvlqFUyg"
      },
      "source": [
        "# **Text Pre-processing**\n",
        "\n",
        "All tweets are processed to remove unnecessary things like links, non-English words, stopwords, punctuation’s, etc. We employ the power of the **nltk.tokenize** and **nltk.corpus** modules:"
      ]
    },
    {
      "cell_type": "code",
      "execution_count": null,
      "metadata": {
        "id": "AffHX87KFUyg"
      },
      "outputs": [],
      "source": [
        "from nltk.tokenize import TweetTokenizer\n",
        "from nltk.corpus import stopwords\n",
        "import re, string\n",
        "import nltk\n",
        "tweets_texts = df[\"text\"].tolist()\n",
        "stopwords = stopwords.words('english')\n",
        "english_vocab = set(w.lower() for w in nltk.corpus.words.words())"
      ]
    },
    {
      "cell_type": "code",
      "execution_count": null,
      "metadata": {
        "id": "Zixt7k76FUyg"
      },
      "outputs": [],
      "source": [
        "def process_tweet_text(tweet):\n",
        "   if tweet.startswith('@null'):\n",
        "       return \"[Tweet not available]\"\n",
        "   tweet = re.sub(r'\\$\\w*','',tweet) # Remove tickers\n",
        "   tweet = re.sub(r'https?:\\/\\/.*\\/\\w*','',tweet) # Remove hyperlinks\n",
        "   tweet = re.sub(r'['+string.punctuation+']+', ' ',tweet) # Remove puncutations like 's\n",
        "   twtok = TweetTokenizer(strip_handles=True, reduce_len=True)\n",
        "   tokens = twtok.tokenize(tweet)\n",
        "   tokens = [i.lower() for i in tokens if i not in stopwords and len(i) > 2 and\n",
        "                                             i in english_vocab]\n",
        "   return tokens"
      ]
    },
    {
      "cell_type": "code",
      "execution_count": null,
      "metadata": {
        "collapsed": true,
        "id": "PLj3lBCeFUyg"
      },
      "outputs": [],
      "source": [
        "words = []\n",
        "for tw in tweets_texts:\n",
        "    words += process_tweet_text(tw)"
      ]
    },
    {
      "cell_type": "code",
      "execution_count": null,
      "metadata": {
        "id": "Ad25LR-tFUyg",
        "outputId": "404c453b-a45b-4ec2-b81b-71e46080fa51"
      },
      "outputs": [
        {
          "data": {
            "text/plain": [
              "17702"
            ]
          },
          "execution_count": 26,
          "metadata": {},
          "output_type": "execute_result"
        }
      ],
      "source": [
        "# How many words do we have?\n",
        "len(words)"
      ]
    },
    {
      "cell_type": "code",
      "execution_count": null,
      "metadata": {
        "id": "ozEmeimQFUyh",
        "outputId": "ee713b56-28e6-432c-f5c0-74641fc453a1"
      },
      "outputs": [
        {
          "data": {
            "text/plain": [
              "[u'time',\n",
              " u'history',\n",
              " u'temple',\n",
              " u'closed',\n",
              " u'due',\n",
              " u'pic',\n",
              " u'twitter',\n",
              " u'havoc',\n",
              " u'incessant',\n",
              " u'flooding',\n",
              " u'result',\n",
              " u'cause',\n",
              " u'misery',\n",
              " u'city',\n",
              " u'pic']"
            ]
          },
          "execution_count": 28,
          "metadata": {},
          "output_type": "execute_result"
        }
      ],
      "source": [
        "# Take a look at the first 15 words\n",
        "words[0:15]"
      ]
    },
    {
      "cell_type": "markdown",
      "metadata": {
        "id": "7ySK-YS0FUyh"
      },
      "source": [
        "# **Text Exploration**\n",
        "\n",
        "The words are plotted again to find the most frequently used terms. A few simple words repeat more often than others: ’help’, ‘people’, ‘stay’, ’safe’, etc.\n",
        "\n",
        "[(‘twitter’, 1026), (‘pic’, 1005), (‘help’, 569), (‘people’, 429), (‘safe’, 274)]\n",
        "\n",
        "These are immediate reactions and responses to the crisis.\n",
        "\n",
        "Some infrequent terms are [(‘fit’, 1), (‘bible’, 1), (‘disappear’, 1), (‘regulated’, 1), (‘doom’, 1)]."
      ]
    },
    {
      "cell_type": "code",
      "execution_count": null,
      "metadata": {
        "id": "7sRuotqCFUyh",
        "outputId": "7c841a25-1883-4ba8-fe7d-031fe4aaa676"
      },
      "outputs": [
        {
          "data": {
            "image/png": "[encoded data removed]",
            "text/plain": [
              "<matplotlib.figure.Figure at 0x1292ccc0>"
            ]
          },
          "metadata": {},
          "output_type": "display_data"
        }
      ],
      "source": [
        "words_dist = FreqDist(words)\n",
        "words_dist.plot(16)"
      ]
    },
    {
      "cell_type": "markdown",
      "metadata": {
        "id": "LHS7mGlbFUyh"
      },
      "source": [
        "Collocations are the words that are found together. They can be bi-grams (two words together) or phrases like trigrams (3 words) or n-grams (n words)."
      ]
    },
    {
      "cell_type": "code",
      "execution_count": null,
      "metadata": {
        "id": "A3EmVcfJFUyh",
        "outputId": "94646e43-f72b-4a79-a8a0-2132526afc62"
      },
      "outputs": [
        {
          "name": "stdout",
          "output_type": "stream",
          "text": [
            "pic twitter\n",
            "lady labour\n",
            "national media\n",
            "pani pani\n",
            "team along\n",
            "beyond along\n",
            "rescue team\n",
            "stay safe\n",
            "team beyond\n",
            "rescue along\n"
          ]
        }
      ],
      "source": [
        "from nltk.collocations import *\n",
        "bigram_measures = nltk.collocations.BigramAssocMeasures()\n",
        "finder = BigramCollocationFinder.from_words(words, 5)\n",
        "finder.apply_freq_filter(5)\n",
        "for word1,word2 in finder.nbest(bigram_measures.likelihood_ratio, 10):\n",
        "    print(word1, word2)"
      ]
    },
    {
      "cell_type": "markdown",
      "metadata": {
        "id": "0nI47rpxFUyh"
      },
      "source": [
        "These depict the disastrous situation, like “stay safe”, “rescue team”, even a commonly used Hindi phrase “pani pani” (lots of water)."
      ]
    },
    {
      "cell_type": "markdown",
      "metadata": {
        "id": "-jObboWSFUyh"
      },
      "source": [
        "# **Clustering**\n",
        "\n",
        "In such crisis situations, lots of similar tweets are generated. They can be grouped together in clusters based on closeness or ‘distance’ amongst them. Artem Lukanin has explained the process in details here. TF-IDF method is used to vectorize the tweets and then cosine distance is measured to assess the similarity.\n",
        "\n",
        "Each tweet is pre-processed and added to a list. The list is fed to TFIDF Vectorizer to convert each tweet into a vector. Each value in the vector depends on how many times a word or a term appears in the tweet (TF) and on how rare it is amongst all tweets/documents (IDF). Below is a visual representation of TFIDF matrix it generates."
      ]
    },
    {
      "cell_type": "code",
      "execution_count": null,
      "metadata": {
        "collapsed": true,
        "id": "zJbtSjAMFUyh"
      },
      "outputs": [],
      "source": [
        "cleaned_tweets = []\n",
        "for tw in tweets_texts:\n",
        "    words = process_tweet_text(tw)\n",
        "    #Form sentences of processed words\n",
        "    cleaned_tweet = \" \".join(w for w in words if len(w) > 2 and w.isalpha())\n",
        "    cleaned_tweets.append(cleaned_tweet)\n",
        "df['CleanTweetText'] = cleaned_tweets"
      ]
    },
    {
      "cell_type": "code",
      "execution_count": null,
      "metadata": {
        "id": "OtPsGzpRFUyi",
        "outputId": "fde8c2c0-331a-45ac-d0c1-74d2c41d370c"
      },
      "outputs": [
        {
          "name": "stdout",
          "output_type": "stream",
          "text": [
            "[[  1.00000000e+00   1.00000000e+00   1.00000000e+00 ...,   1.00000000e+00\n",
            "    1.00000000e+00   1.00000000e+00]\n",
            " [  1.00000000e+00   1.00000000e+00   1.00000000e+00 ...,   1.00000000e+00\n",
            "    1.00000000e+00   1.00000000e+00]\n",
            " [  1.00000000e+00   1.00000000e+00   0.00000000e+00 ...,   1.00000000e+00\n",
            "    1.00000000e+00   9.64312734e-01]\n",
            " ..., \n",
            " [  1.00000000e+00   1.00000000e+00   1.00000000e+00 ...,   0.00000000e+00\n",
            "    1.00000000e+00   1.00000000e+00]\n",
            " [  1.00000000e+00   1.00000000e+00   1.00000000e+00 ...,   1.00000000e+00\n",
            "   -2.22044605e-16   1.00000000e+00]\n",
            " [  1.00000000e+00   1.00000000e+00   9.64312734e-01 ...,   1.00000000e+00\n",
            "    1.00000000e+00  -2.22044605e-16]]\n"
          ]
        }
      ],
      "source": [
        "from sklearn.feature_extraction.text import TfidfVectorizer\n",
        "tfidf_vectorizer = TfidfVectorizer(use_idf=True, ngram_range=(1,3))\n",
        "tfidf_matrix = tfidf_vectorizer.fit_transform(cleaned_tweets)\n",
        "feature_names = tfidf_vectorizer.get_feature_names() # num phrases\n",
        "from sklearn.metrics.pairwise import cosine_similarity\n",
        "dist = 1 - cosine_similarity(tfidf_matrix)\n",
        "print(dist)"
      ]
    },
    {
      "cell_type": "code",
      "execution_count": null,
      "metadata": {
        "id": "qs1VvSBQFUyi",
        "outputId": "ee01af0f-f362-4e5f-ea61-a2b63df427ac"
      },
      "outputs": [
        {
          "name": "stdout",
          "output_type": "stream",
          "text": [
            "0    5498\n",
            "2     426\n",
            "1      76\n",
            "Name: ClusterID, dtype: int64\n"
          ]
        }
      ],
      "source": [
        "from sklearn.cluster import KMeans\n",
        "num_clusters = 3\n",
        "km = KMeans(n_clusters=num_clusters)\n",
        "km.fit(tfidf_matrix)\n",
        "clusters = km.labels_.tolist()\n",
        "df['ClusterID'] = clusters\n",
        "print(df['ClusterID'].value_counts())"
      ]
    },
    {
      "cell_type": "markdown",
      "metadata": {
        "id": "4-KAoqrCFUyi"
      },
      "source": [
        "We obtained 3 clusers:\n",
        "1. Clustr 0 with 5498 tweets\n",
        "2. Cluster 1 with 76 tweets\n",
        "3. Cluster 2 with 426 tweets\n",
        "\n",
        "The top words used in each cluster can be computed by as follows:"
      ]
    },
    {
      "cell_type": "code",
      "execution_count": null,
      "metadata": {
        "id": "eHjGsruxFUyi",
        "outputId": "d491c5ed-9471-4a14-e02f-ffa29dc1cf44"
      },
      "outputs": [
        {
          "name": "stdout",
          "output_type": "stream",
          "text": [
            "Cluster 0 : Words :\n",
            "    help\n",
            "    people\n",
            "    twitter\n",
            "    pic\n",
            "    pic twitter\n",
            "    safe\n",
            "    open\n",
            "    rain\n",
            "    share\n",
            "    please\n",
            "Cluster 1 : Words :\n",
            "    situation\n",
            "    people\n",
            "    situation better\n",
            "    better\n",
            "    people situation\n",
            "    situation pic twitter\n",
            "    situation pic\n",
            "    better soon\n",
            "    soon\n",
            "    bad\n",
            "Cluster 2 : Words :\n",
            "    pic\n",
            "    pic twitter\n",
            "    twitter\n",
            "    guess pic twitter\n",
            "    gud make sure\n",
            "    gud work\n",
            "    guess\n",
            "    guess medical\n",
            "    guess medical aid\n",
            "    guess pic\n"
          ]
        }
      ],
      "source": [
        "#sort cluster centers by proximity to centroid\n",
        "order_centroids = km.cluster_centers_.argsort()[:, ::-1]\n",
        "for i in range(num_clusters):\n",
        "    print(\"Cluster {}: Words:\".format(i))\n",
        "    for ind in order_centroids[i, :10]:\n",
        "        print('    %s' % feature_names[ind])"
      ]
    },
    {
      "cell_type": "markdown",
      "metadata": {
        "id": "c5cVBmBfFUyi"
      },
      "source": [
        "The result is:\n",
        "\n",
        "* Cluster 0: Words: show mercy please people rain\n",
        "* Cluster 1: Words: pic twitter zoo wall broke ground saving guilty water growing\n",
        "* Cluster 2: Words: help people pic twitter safe open rain share please"
      ]
    },
    {
      "cell_type": "markdown",
      "metadata": {
        "id": "0HfnfcOwFUyi"
      },
      "source": [
        "# **Doc2Vec and K-means**\n",
        "\n",
        "Doc2Vec methodology available in gensim package is used to vectorize the tweets,\n",
        "as follows:"
      ]
    },
    {
      "cell_type": "code",
      "execution_count": null,
      "metadata": {
        "id": "Q0JHck4XFUyi",
        "outputId": "038b667b-ed5f-4ca9-cb85-fcf14253b7d9"
      },
      "outputs": [
        {
          "name": "stderr",
          "output_type": "stream",
          "text": [
            "c:\\anaconda2\\lib\\site-packages\\gensim\\utils.py:855: UserWarning: detected Windows; aliasing chunkize to chunkize_serial\n",
            "  warnings.warn(\"detected Windows; aliasing chunkize to chunkize_serial\")\n"
          ]
        },
        {
          "name": "stdout",
          "output_type": "stream",
          "text": [
            "Now training epoch 0\n",
            "Now training epoch 20\n",
            "Now training epoch 40\n"
          ]
        }
      ],
      "source": [
        "import gensim\n",
        "from gensim.models.doc2vec import TaggedDocument\n",
        "taggeddocs = []\n",
        "tag2tweetmap = {}\n",
        "for index,i in enumerate(cleaned_tweets):\n",
        "    if len(i) > 2: # Non empty tweets\n",
        "        tag = u'SENT_{:d}'.format(index)\n",
        "        sentence = TaggedDocument(words=gensim.utils.to_unicode(i).split(), tags=[tag])\n",
        "        tag2tweetmap[tag] = i\n",
        "        taggeddocs.append(sentence)\n",
        "model = gensim.models.Doc2Vec(taggeddocs, dm=0, alpha=0.025, size=20, min_alpha=0.025, min_count=0)\n",
        "for epoch in range(60):\n",
        "    if epoch % 20 == 0:\n",
        "        print('Training epoch: %s' % epoch)\n",
        "    model.train(taggeddocs)\n",
        "    model.alpha -= 0.002  # decrease the learning rate\n",
        "    model.min_alpha = model.alpha  # fix the learning rate, no decay"
      ]
    },
    {
      "cell_type": "markdown",
      "metadata": {
        "id": "iQ3Ip16DFUyj"
      },
      "source": [
        "Once trained model is ready the tweet-vectors available in model can be clustered using K-means."
      ]
    },
    {
      "cell_type": "code",
      "execution_count": null,
      "metadata": {
        "id": "Th3lIGdOFUyj",
        "outputId": "2ffc4662-c420-498d-a805-409c9a455fd7"
      },
      "outputs": [
        {
          "name": "stdout",
          "output_type": "stream",
          "text": [
            "Topic 0 has words [u'rescue', u'team', u'area', u'beyond', u'along']\n",
            "Topic 1 has words [u'amid', u'heavy', u'rain', u'airport', u'shut']\n",
            "Topic 2 has words [u'everyone', u'safe', u'away', u'boat', u'boat']\n",
            "Topic 3 has words [u'situation', u'total', u'ongoing', u'pic', u'twitter']\n",
            "Topic 4 has words [u'corrupt', u'lightening', u'speed', u'midst', u'climate']\n",
            "Topic 5 has words [u'resume', u'airport', u'stuck', u'terminal', u'goi']\n"
          ]
        }
      ],
      "source": [
        "from sklearn.cluster import KMeans\n",
        "dataSet = model.syn0\n",
        "kmeansClustering = KMeans(n_clusters=6)\n",
        "centroidIndx = kmeansClustering.fit_predict(dataSet)\n",
        "topic2wordsmap = {}\n",
        "for i,val in enumerate(dataSet):\n",
        "    tag = model.docvecs.index_to_doctag(i)\n",
        "    topic = centroidIndx[i]\n",
        "    if topic in topic2wordsmap.keys():\n",
        "        for w in (tag2tweetmap[tag].split()):\n",
        "            topic2wordsmap[topic].append(w)\n",
        "    else:\n",
        "        topic2wordsmap[topic] = []\n",
        "for i in topic2wordsmap:\n",
        "    words = topic2wordsmap[i]\n",
        "    print(\"Topic {} has words {}\".format(i, words[:5]))"
      ]
    },
    {
      "cell_type": "code",
      "execution_count": null,
      "metadata": {
        "id": "fuw23zf_FUyj",
        "outputId": "cc44bf49-56df-4bbd-ad6c-12f5768f30e8"
      },
      "outputs": [
        {
          "data": {
            "text/plain": [
              "(2359L, 20L)"
            ]
          },
          "execution_count": 50,
          "metadata": {},
          "output_type": "execute_result"
        }
      ],
      "source": [
        "dataSet.shape"
      ]
    },
    {
      "cell_type": "markdown",
      "metadata": {
        "id": "Me-JoOvyFUyj"
      },
      "source": [
        "# **End Notes**\n",
        "\n",
        "This article shows how to implement Capstone-Chennai Floods study using Python and its libraries.\n",
        "With this tutorial, one can get introduction to various Natural Language Processing (NLP)\n",
        "workflows such as accessing twitter data, pre-processing text, explorations, clustering\n",
        "and topic modeling."
      ]
    }
  ],
  "metadata": {
    "anaconda-cloud": {},
    "kernelspec": {
      "display_name": "Python [conda env:tensorflow-gpu]",
      "language": "python",
      "name": "conda-env-tensorflow-gpu-py"
    },
    "language_info": {
      "codemirror_mode": {
        "name": "ipython",
        "version": 3
      },
      "file_extension": ".py",
      "mimetype": "text/x-python",
      "name": "python",
      "nbconvert_exporter": "python",
      "pygments_lexer": "ipython3",
      "version": "3.5.2"
    },
    "colab": {
      "provenance": [],
      "include_colab_link": true
    }
  },
  "nbformat": 4,
  "nbformat_minor": 0
}