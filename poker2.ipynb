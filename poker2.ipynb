{
  "cells": [
    {
      "cell_type": "markdown",
      "metadata": {
        "id": "view-in-github",
        "colab_type": "text"
      },
      "source": [
        "<a href=\"https://colab.research.google.com/github/samyzaf/kerutils/blob/master/poker2.ipynb\" target=\"_parent\"><img src=\"https://colab.research.google.com/assets/colab-badge.svg\" alt=\"Open In Colab\"/></a>"
      ]
    },
    {
      "cell_type": "markdown",
      "id": "f9351b33",
      "metadata": {
        "cell_marker": "\"\"\"",
        "id": "f9351b33"
      },
      "source": [
        "# **Poker Hand Image Recognition**\n",
        "\n",
        "<img src=\"https://samyzaf.com/ML/poker2/images/fig1.png\" width=\"70%\" />\n",
        "\n",
        "* Poker hand images database created by [Samy Zafrany](https://samyzaf.com)\n",
        "* It consists of 49,759 192x192 pixels rgb color images.\n",
        "* It is divided to two **HDF5** datasets:\n",
        "  1. train.h5, which consists of 40,000 training samples\n",
        "  2. test.h5, which consists of 9,759 validation samples\n",
        "\n",
        "  These datasets can be dowloaded from:\n",
        "  1. http://www.samyzaf.com/ML/poker2/train.h5\n",
        "  2. http://www.samyzaf.com/ML/poker2/test.h5\n",
        "  \n",
        "* The poker hand images in these datasets are based on a larger\n",
        "  numerical database of poker hands\n",
        "  (consisting of 1,025,010 instances of poker hands)\n",
        "  which was created by\n",
        "  * Robert Cattral (cattral@gmail.com)\n",
        "  * Franz Oppacher (oppacher@scs.carleton.ca)\n",
        "  * Carleton University, Department of Computer Science\n",
        "  Intelligent Systems Research Unit  \n",
        "  1125 Colonel By Drive, Ottawa, Ontario, Canada, K1S5B6  \n",
        "  https://archive.ics.uci.edu/ml/datasets/Poker+Hand\n",
        "\n",
        "1. Each image in our datasets is an example of a poker hand\n",
        "   consisting of five cards drawn from a standard deck of 52 cards.\n",
        "2. Each card is described using two attributes (suit and rank),\n",
        "   and hence each poker hand is described\n",
        "   by a total of 10 features.\n",
        "3. The order of cards is important, which is why there\n",
        "   are 480 possible **Royal Flush** hands.\n",
        "4. Each poker hand in our HDF5 file is assigned a unique\n",
        "   integer i, and three entries:\n",
        "   * img_i - A Numpy matrix for the image itself\n",
        "   * cls_i - The Poker hand type (see below)\n",
        "   * hnd_i - A list of the 10 features (5 cards ranks and 5 suits)\n",
        "   \n",
        "## **Agenda**\n",
        "* Our aim in this study unit is to introduce and explore our\n",
        "  Poker Hands Image database.\n",
        "* Your aim is to build a **Convolutional Neural Network** for\n",
        "  recognizing images of poker hands.\n",
        "*  That is, you CNN will accept an image of a Poker hand and\n",
        "  it will have to classify it as a \"Royal Flush\",\n",
        "  \"Three of a kind\",\n",
        "  \"Four of a kind\", \"Two Pairs\", etc ...\n",
        "\n",
        "* In the tutorial end we will sketch additional ideas\n",
        "  for using this database for course projects.\n",
        "\n",
        "## **Feature Information**\n",
        "\n",
        "A Poker hand consists of exactly 11 features:\n",
        "1. **S1** - Suit of card 1  \n",
        "   Ordinal (1-4) representing: Hearts=1, Spades=2, Diamonds=3, Clubs=4  \n",
        "   <table>\n",
        "   <tr> <td> 1 <td> heart   <td> <font size=+2 color=\"red\"> ♥ </font> </tr>\n",
        "   <tr> <td> 2 <td> spade   <td> <font size=+2 color=\"black\"> ♠ </font> </tr>\n",
        "   <tr> <td> 3 <td> diamond <td> <font size=+2 color=\"red\"> ♦ </font> </tr>\n",
        "   <tr> <td> 4 <td> club    <td> <font size=+2 color=\"black\"> ♣ </font> </tr>\n",
        "   </table>\n",
        "\n",
        "2. **C1** - Rank of card 1  \n",
        "   Numerical (1-13) representing: Ace=1, 2, 3, 4, 5, 6, 7, 8, 9, 10 , Jack=11, Queen=12, King=13\n",
        "\n",
        "3. **S2** - Suit of card 2  \n",
        "   Ordinal (1-4) representing: Hearts=1, Spades=2, Diamonds=3, Clubs=4\n",
        "\n",
        "4. **C2** - Rank of card 2  \n",
        "   Numerical (1-13) representing: Ace=1, 2, 3, 4, 5, 6, 7, 8, 9, 10 , Jack=11, Queen=12, King=13\n",
        "\n",
        "5. **S3** - Suit of card 3  \n",
        "   Ordinal (1-4) representing: Hearts=1, Spades=2, Diamonds=3, Clubs=4\n",
        "\n",
        "6. **C3** - Rank of card 3  \n",
        "   Numerical (1-13) representing: Ace=1, 2, 3, 4, 5, 6, 7, 8, 9, 10 , Jack=11, Queen=12, King=13\n",
        "\n",
        "7. **S4** - Suit of card 4  \n",
        "   Ordinal (1-4) representing: Hearts=1, Spades=2, Diamonds=3, Clubs=4\n",
        "\n",
        "8. **C4** - Rank of card 4  \n",
        "   Numerical (1-13) representing: Ace=1, 2, 3, 4, 5, 6, 7, 8, 9, 10 , Jack=11, Queen=12, King=13\n",
        "\n",
        "9. **S5** - Suit of card 5  \n",
        "   Ordinal (1-4) representing: Hearts=1, Spades=2, Diamonds=3, Clubs=4\n",
        "\n",
        "10. **C5** - Rank of card 5  \n",
        "   Numerical (1-13) representing: Ace=1, 2, 3, 4, 5, 6, 7, 8, 9, 10 , Jack=11, Queen=12, King=13\n",
        "\n",
        "11. **CLASS** of a Poker Hand (or Poker hand type):  \n",
        "    An integer 0-9:\n",
        "\n",
        "    <table style=\"font-family: Consolas; font-size: +2;font-weight: bold; color: #4f011a;\">\n",
        "       <tr> <td> <font color=\"#163a51\"> CLASS </font>\n",
        "            <td style=\"text-align: center;\"> <font color=\"#163a51\"> Description </font> </tr>\n",
        "       <tr> <td> 0 <td> Nothing in hand; not a recognized poker hand </tr>\n",
        "       <tr> <td> 1 <td> One pair; one pair of equal ranks within five cards </tr>\n",
        "       <tr> <td> 2 <td> Two pairs; two pairs of equal ranks within five cards </tr>\n",
        "       <tr> <td> 3 <td> Three of a kind; three equal ranks within five cards </tr>\n",
        "       <tr> <td> 4 <td> Straight; five cards, sequentially ranked with no gaps </tr>\n",
        "       <tr> <td> 5 <td> Flush; five cards with the same suit</tr>\n",
        "       <tr> <td> 6 <td> Full house; pair + different rank three of a kind </tr>\n",
        "       <tr> <td> 7 <td> Four of a kind; four equal ranks within five cards </tr>\n",
        "       <tr> <td> 8 <td> Straight flush; straight + flush </tr>\n",
        "       <tr> <td> 9 <td> Royal flush; {Ace, King, Queen, Jack, Ten} + flush </tr>\n",
        "    </table>\n",
        "\n",
        "## **Example**\n",
        "* The following poker hand has the following 11 features.\n",
        "* Note that the last feature is 3 which according to the\n",
        "  above table indicates **\"Three of a kind\"**.  \n",
        "  **1, 13, 3, 12, 2, 12, 1, 9, 4, 12, 3**  \n",
        "  <img src=\"https://samyzaf.com/ML/poker2/images/h3.png\" width=\"40%\" />\n",
        "\n",
        "* This is better understood from the following table:\n",
        "  <table>\n",
        "  <tr> <td> 1 <td> 13 <td> 3 <td> 12 <td> 2 <td> 12 <td> 1 <td> 9 <td> 4 <td> 12\n",
        "  <td style=\"text-align: center;\"> 3  </td></tr>\n",
        "  <tr> <td> <font size=+2 color=\"red\"> ♥ <td> K  <td> <font size=+2 color=\"red\"> ♦ <td> Q  <td> <font size=+2 color=\"black\"> ♠ <td> Q  <td> <font size=+2 color=\"red\"> ♥ <td> 9 <td> <font size=+2 color=\"black\"> ♣ <td> Q  <td> Theree of a kind</tr>\n",
        "  </table>\n",
        "\n",
        "## **Suggested Coding Terminology (Python)**"
      ]
    },
    {
      "cell_type": "code",
      "execution_count": 1,
      "id": "ff8a5c3d",
      "metadata": {
        "lines_to_next_cell": 2,
        "id": "ff8a5c3d"
      },
      "outputs": [],
      "source": [
        "features = ['S1', 'C1', 'S2', 'C2', 'S3', 'C3', 'S4', 'C4', 'S5', 'C5', 'CLASS']\n",
        "\n",
        "# Let's keep a map of poker hand class id to class name\n",
        "# There are exactly 10 type of poker hands\n",
        "\n",
        "poker_hand_types = [0, 1, 2, 3, 4, 5, 6, 7, 8, 9]\n",
        "\n",
        "hand_name = {\n",
        "    0: 'Nothing in hand',\n",
        "    1: 'One pair',\n",
        "    2: 'Two pairs',\n",
        "    3: 'Three of a kind',\n",
        "    4: 'Straight',\n",
        "    5: 'Flush',\n",
        "    6: 'Full house',\n",
        "    7: 'Four of a kind',\n",
        "    8: 'Straight flush',\n",
        "    9: 'Royal flush',\n",
        "}"
      ]
    },
    {
      "cell_type": "markdown",
      "id": "de1f1b83",
      "metadata": {
        "cell_marker": "\"\"\"",
        "id": "de1f1b83"
      },
      "source": [
        "## **Data Exploration**\n",
        "* Mission: predict the Poker hand type (feature 11) from the first 10 features.\n",
        "* Lets explore our HDF5 files to help you get started with this mission.\n",
        "* We first show how to parse an HDF5 to collect poker hands in numerical form.\n",
        "* After collecting the numerical data we perform\n",
        "  some statistical analysis on it.\n",
        "* We will need to install and import our\n",
        "  [kerutils library](https://samyzaf.com/kerutils.zip)."
      ]
    },
    {
      "cell_type": "code",
      "execution_count": 2,
      "id": "56b702a8",
      "metadata": {
        "colab": {
          "base_uri": "https://localhost:8080/"
        },
        "id": "56b702a8",
        "outputId": "8e29fa75-1278-4ea0-b535-2f5f8b94b872"
      },
      "outputs": [
        {
          "output_type": "stream",
          "name": "stdout",
          "text": [
            "  Preparing metadata (setup.py) ... \u001b[?25l\u001b[?25hdone\n",
            "  Preparing metadata (setup.py) ... \u001b[?25l\u001b[?25hdone\n",
            "  Building wheel for kerutils (setup.py) ... \u001b[?25l\u001b[?25hdone\n",
            "  Building wheel for ezprogbar (setup.py) ... \u001b[?25l\u001b[?25hdone\n"
          ]
        }
      ],
      "source": [
        "%pip install -q https://samyzaf.com/kerutils.zip\n",
        "from kerutils import *\n",
        "import pandas as pd\n",
        "plt.rcParams['figure.figsize'] = (7,6)\n",
        "%matplotlib inline"
      ]
    },
    {
      "cell_type": "code",
      "source": [
        "download(\"https://samyzaf.com/ML/poker2/train.h5.zip\", decompress=True)"
      ],
      "metadata": {
        "colab": {
          "base_uri": "https://localhost:8080/",
          "height": 88
        },
        "id": "pRvpn1OfVXv3",
        "outputId": "52da192f-20a5-4331-fec7-b13b139ba8c1"
      },
      "id": "pRvpn1OfVXv3",
      "execution_count": 3,
      "outputs": [
        {
          "output_type": "stream",
          "name": "stdout",
          "text": [
            "Downloaded train.h5.zip from https://samyzaf.com/ML/poker2/train.h5.zip\n",
            "Extracting zip file train.h5.zip ...\n",
            "Done.\n"
          ]
        },
        {
          "output_type": "execute_result",
          "data": {
            "text/plain": [
              "'train.h5'"
            ],
            "application/vnd.google.colaboratory.intrinsic+json": {
              "type": "string"
            }
          },
          "metadata": {},
          "execution_count": 3
        }
      ]
    },
    {
      "cell_type": "code",
      "execution_count": 4,
      "id": "4ed6c349",
      "metadata": {
        "colab": {
          "base_uri": "https://localhost:8080/"
        },
        "id": "4ed6c349",
        "outputId": "fd1d1371-0830-48c0-992b-bf431e4ea10c"
      },
      "outputs": [
        {
          "output_type": "stream",
          "name": "stdout",
          "text": [
            "Progress: 100%   \n",
            "Time: 90.85 seconds\n"
          ]
        }
      ],
      "source": [
        "# This is how you open an HDF5 file\n",
        "f = h5py.File('train.h5', 'r')\n",
        "\n",
        "# We will collect all the images in one long Python list\n",
        "images = []\n",
        "\n",
        "# We will collect all classes in the following list\n",
        "y_train = []\n",
        "\n",
        "# Poker hands in text form\n",
        "hands = []\n",
        "\n",
        "# Our HDF5 file has a special key for the number of images\n",
        "num_images = f.get('num_images')[()]\n",
        "pb = ProgressBar(num_images)  # progress bar for monitoring\n",
        "\n",
        "for i in range(num_images):\n",
        "    pb.advance()\n",
        "    cls_key = 'cls_' + str(i)\n",
        "    img_key = 'img_' + str(i)\n",
        "    hnd_key = 'hnd_' + str(i)\n",
        "\n",
        "    # This is the poker hand class\n",
        "    cls = int(np.array(f.get(cls_key)))\n",
        "    y_train.append(cls)\n",
        "\n",
        "    # This is image i\n",
        "    img = np.array(f.get(img_key))\n",
        "    images.append(img)\n",
        "\n",
        "    # This is the poker hand text form\n",
        "    h = np.array(f.get(hnd_key))\n",
        "    hands.append(h)\n",
        "\n",
        "# Do not forget to close the HDF5 file!\n",
        "f.close()"
      ]
    },
    {
      "cell_type": "markdown",
      "source": [
        "* A method for drawing a given poker hand index."
      ],
      "metadata": {
        "id": "kFaiA9S2Xei7"
      },
      "id": "kFaiA9S2Xei7"
    },
    {
      "cell_type": "code",
      "source": [
        "def draw_hand(i):\n",
        "    plt.figure(figsize=(3,3))\n",
        "    print(\"Image id:\", i)\n",
        "    print(\"Features:\", hands[i])\n",
        "    c = y_train[i]\n",
        "    img = images[i]\n",
        "    print(\"Class: %d (%s)\" % (c, hand_name[c]))\n",
        "    plt.title(hand_name[c], fontsize=18, fontweight='bold', y=1.02)\n",
        "    ticks=[0,32,64,96,128,160,192]\n",
        "    plt.xticks(ticks, fontsize=12)\n",
        "    plt.yticks(ticks, fontsize=12)\n",
        "    plt.imshow(img, cmap='jet')\n",
        "    plt.show()"
      ],
      "metadata": {
        "id": "642zANAwXc88"
      },
      "id": "642zANAwXc88",
      "execution_count": 5,
      "outputs": []
    },
    {
      "cell_type": "markdown",
      "id": "40315cff",
      "metadata": {
        "cell_marker": "\"\"\"",
        "id": "40315cff"
      },
      "source": [
        "* Let's draw a few samples of poker hands.\n",
        "* We have 40,000 of them, numbered from 0 to 39,999."
      ]
    },
    {
      "cell_type": "code",
      "execution_count": 6,
      "id": "b7088a07",
      "metadata": {
        "colab": {
          "base_uri": "https://localhost:8080/",
          "height": 379
        },
        "id": "b7088a07",
        "outputId": "dee1bcb1-61b6-4d8d-f721-7601e58e28b6"
      },
      "outputs": [
        {
          "output_type": "stream",
          "name": "stdout",
          "text": [
            "Image id: 15\n",
            "Features: [1 8 1 7 1 9 1 5 1 6]\n",
            "Class: 8 (Straight flush)\n"
          ]
        },
        {
          "output_type": "display_data",
          "data": {
            "text/plain": [
              "<Figure size 300x300 with 1 Axes>"
            ],
            "image/png": "[encoded data removed]"
          },
          "metadata": {}
        }
      ],
      "source": [
        "draw_hand(15)"
      ]
    },
    {
      "cell_type": "code",
      "execution_count": 7,
      "id": "c255fe81",
      "metadata": {
        "colab": {
          "base_uri": "https://localhost:8080/",
          "height": 379
        },
        "id": "c255fe81",
        "outputId": "c7319a31-cab8-4e77-8a9b-b13f6701f24f"
      },
      "outputs": [
        {
          "output_type": "stream",
          "name": "stdout",
          "text": [
            "Image id: 543\n",
            "Features: [1 6 1 4 4 2 1 2 2 4]\n",
            "Class: 2 (Two pairs)\n"
          ]
        },
        {
          "output_type": "display_data",
          "data": {
            "text/plain": [
              "<Figure size 300x300 with 1 Axes>"
            ],
            "image/png": "[encoded data removed]"
          },
          "metadata": {}
        }
      ],
      "source": [
        "draw_hand(543)"
      ]
    },
    {
      "cell_type": "code",
      "execution_count": 8,
      "id": "18572b57",
      "metadata": {
        "colab": {
          "base_uri": "https://localhost:8080/",
          "height": 379
        },
        "id": "18572b57",
        "outputId": "81c2a97e-22b7-4b50-fc8b-eae661c8d0a5"
      },
      "outputs": [
        {
          "output_type": "stream",
          "name": "stdout",
          "text": [
            "Image id: 39234\n",
            "Features: [ 2  9  2 11  3 11  4 12  1 11]\n",
            "Class: 3 (Three of a kind)\n"
          ]
        },
        {
          "output_type": "display_data",
          "data": {
            "text/plain": [
              "<Figure size 300x300 with 1 Axes>"
            ],
            "image/png": "[encoded data removed]"
          },
          "metadata": {}
        }
      ],
      "source": [
        "draw_hand(39234)"
      ]
    },
    {
      "cell_type": "markdown",
      "id": "f5536a2c",
      "metadata": {
        "cell_marker": "\"\"\"",
        "id": "f5536a2c"
      },
      "source": [
        "* At this stage we can build a pandas dataframe for the numerical hands.\n",
        "* We start with a dataframe for the 10 features and later add the class column."
      ]
    },
    {
      "cell_type": "code",
      "execution_count": 9,
      "id": "570fd614",
      "metadata": {
        "id": "570fd614"
      },
      "outputs": [],
      "source": [
        "data = pd.DataFrame(hands, columns=features[0:10])\n",
        "\n",
        "# We add the poker hand type as the 11th column\n",
        "data['CLASS'] = y_train"
      ]
    },
    {
      "cell_type": "code",
      "execution_count": 10,
      "id": "dd19d736",
      "metadata": {
        "colab": {
          "base_uri": "https://localhost:8080/",
          "height": 206
        },
        "id": "dd19d736",
        "outputId": "46a1cd17-53c2-4658-9ab4-7d0b96c9c32c"
      },
      "outputs": [
        {
          "output_type": "execute_result",
          "data": {
            "text/plain": [
              "   S1  C1  S2  C2  S3  C3  S4  C4  S5  C5  CLASS\n",
              "0   1   2   1   4   1   5   1   3   1   6      8\n",
              "1   1   9   1  12   1  10   1  11   1  13      8\n",
              "2   2   1   2   2   2   3   2   4   2   5      8\n",
              "3   3   5   3   6   3   9   3   7   3   8      8\n",
              "4   4   1   4   4   4   2   4   3   4   5      8"
            ],
            "text/html": [
              "\n",
              "  <div id=\"df-7ec79bf2-b73e-42c0-8c43-c8738bdf29ac\" class=\"colab-df-container\">\n",
              "    <div>\n",
              "<style scoped>\n",
              "    .dataframe tbody tr th:only-of-type {\n",
              "        vertical-align: middle;\n",
              "    }\n",
              "\n",
              "    .dataframe tbody tr th {\n",
              "        vertical-align: top;\n",
              "    }\n",
              "\n",
              "    .dataframe thead th {\n",
              "        text-align: right;\n",
              "    }\n",
              "</style>\n",
              "<table border=\"1\" class=\"dataframe\">\n",
              "  <thead>\n",
              "    <tr style=\"text-align: right;\">\n",
              "      <th></th>\n",
              "      <th>S1</th>\n",
              "      <th>C1</th>\n",
              "      <th>S2</th>\n",
              "      <th>C2</th>\n",
              "      <th>S3</th>\n",
              "      <th>C3</th>\n",
              "      <th>S4</th>\n",
              "      <th>C4</th>\n",
              "      <th>S5</th>\n",
              "      <th>C5</th>\n",
              "      <th>CLASS</th>\n",
              "    </tr>\n",
              "  </thead>\n",
              "  <tbody>\n",
              "    <tr>\n",
              "      <th>0</th>\n",
              "      <td>1</td>\n",
              "      <td>2</td>\n",
              "      <td>1</td>\n",
              "      <td>4</td>\n",
              "      <td>1</td>\n",
              "      <td>5</td>\n",
              "      <td>1</td>\n",
              "      <td>3</td>\n",
              "      <td>1</td>\n",
              "      <td>6</td>\n",
              "      <td>8</td>\n",
              "    </tr>\n",
              "    <tr>\n",
              "      <th>1</th>\n",
              "      <td>1</td>\n",
              "      <td>9</td>\n",
              "      <td>1</td>\n",
              "      <td>12</td>\n",
              "      <td>1</td>\n",
              "      <td>10</td>\n",
              "      <td>1</td>\n",
              "      <td>11</td>\n",
              "      <td>1</td>\n",
              "      <td>13</td>\n",
              "      <td>8</td>\n",
              "    </tr>\n",
              "    <tr>\n",
              "      <th>2</th>\n",
              "      <td>2</td>\n",
              "      <td>1</td>\n",
              "      <td>2</td>\n",
              "      <td>2</td>\n",
              "      <td>2</td>\n",
              "      <td>3</td>\n",
              "      <td>2</td>\n",
              "      <td>4</td>\n",
              "      <td>2</td>\n",
              "      <td>5</td>\n",
              "      <td>8</td>\n",
              "    </tr>\n",
              "    <tr>\n",
              "      <th>3</th>\n",
              "      <td>3</td>\n",
              "      <td>5</td>\n",
              "      <td>3</td>\n",
              "      <td>6</td>\n",
              "      <td>3</td>\n",
              "      <td>9</td>\n",
              "      <td>3</td>\n",
              "      <td>7</td>\n",
              "      <td>3</td>\n",
              "      <td>8</td>\n",
              "      <td>8</td>\n",
              "    </tr>\n",
              "    <tr>\n",
              "      <th>4</th>\n",
              "      <td>4</td>\n",
              "      <td>1</td>\n",
              "      <td>4</td>\n",
              "      <td>4</td>\n",
              "      <td>4</td>\n",
              "      <td>2</td>\n",
              "      <td>4</td>\n",
              "      <td>3</td>\n",
              "      <td>4</td>\n",
              "      <td>5</td>\n",
              "      <td>8</td>\n",
              "    </tr>\n",
              "  </tbody>\n",
              "</table>\n",
              "</div>\n",
              "    <div class=\"colab-df-buttons\">\n",
              "\n",
              "  <div class=\"colab-df-container\">\n",
              "    <button class=\"colab-df-convert\" onclick=\"convertToInteractive('df-7ec79bf2-b73e-42c0-8c43-c8738bdf29ac')\"\n",
              "            title=\"Convert this dataframe to an interactive table.\"\n",
              "            style=\"display:none;\">\n",
              "\n",
              "  <svg xmlns=\"http://www.w3.org/2000/svg\" height=\"24px\" viewBox=\"0 -960 960 960\">\n",
              "    <path d=\"M120-120v-720h720v720H120Zm60-500h600v-160H180v160Zm220 220h160v-160H400v160Zm0 220h160v-160H400v160ZM180-400h160v-160H180v160Zm440 0h160v-160H620v160ZM180-180h160v-160H180v160Zm440 0h160v-160H620v160Z\"/>\n",
              "  </svg>\n",
              "    </button>\n",
              "\n",
              "  <style>\n",
              "    .colab-df-container {\n",
              "      display:flex;\n",
              "      gap: 12px;\n",
              "    }\n",
              "\n",
              "    .colab-df-convert {\n",
              "      background-color: #E8F0FE;\n",
              "      border: none;\n",
              "      border-radius: 50%;\n",
              "      cursor: pointer;\n",
              "      display: none;\n",
              "      fill: #1967D2;\n",
              "      height: 32px;\n",
              "      padding: 0 0 0 0;\n",
              "      width: 32px;\n",
              "    }\n",
              "\n",
              "    .colab-df-convert:hover {\n",
              "      background-color: #E2EBFA;\n",
              "      box-shadow: 0px 1px 2px rgba(60, 64, 67, 0.3), 0px 1px 3px 1px rgba(60, 64, 67, 0.15);\n",
              "      fill: #174EA6;\n",
              "    }\n",
              "\n",
              "    .colab-df-buttons div {\n",
              "      margin-bottom: 4px;\n",
              "    }\n",
              "\n",
              "    [theme=dark] .colab-df-convert {\n",
              "      background-color: #3B4455;\n",
              "      fill: #D2E3FC;\n",
              "    }\n",
              "\n",
              "    [theme=dark] .colab-df-convert:hover {\n",
              "      background-color: #434B5C;\n",
              "      box-shadow: 0px 1px 3px 1px rgba(0, 0, 0, 0.15);\n",
              "      filter: drop-shadow(0px 1px 2px rgba(0, 0, 0, 0.3));\n",
              "      fill: #FFFFFF;\n",
              "    }\n",
              "  </style>\n",
              "\n",
              "    <script>\n",
              "      const buttonEl =\n",
              "        document.querySelector('#df-7ec79bf2-b73e-42c0-8c43-c8738bdf29ac button.colab-df-convert');\n",
              "      buttonEl.style.display =\n",
              "        google.colab.kernel.accessAllowed ? 'block' : 'none';\n",
              "\n",
              "      async function convertToInteractive(key) {\n",
              "        const element = document.querySelector('#df-7ec79bf2-b73e-42c0-8c43-c8738bdf29ac');\n",
              "        const dataTable =\n",
              "          await google.colab.kernel.invokeFunction('convertToInteractive',\n",
              "                                                    [key], {});\n",
              "        if (!dataTable) return;\n",
              "\n",
              "        const docLinkHtml = 'Like what you see? Visit the ' +\n",
              "          '<a target=\"_blank\" href=https://colab.research.google.com/notebooks/data_table.ipynb>data table notebook</a>'\n",
              "          + ' to learn more about interactive tables.';\n",
              "        element.innerHTML = '';\n",
              "        dataTable['output_type'] = 'display_data';\n",
              "        await google.colab.output.renderOutput(dataTable, element);\n",
              "        const docLink = document.createElement('div');\n",
              "        docLink.innerHTML = docLinkHtml;\n",
              "        element.appendChild(docLink);\n",
              "      }\n",
              "    </script>\n",
              "  </div>\n",
              "\n",
              "\n",
              "<div id=\"df-867e495a-cb39-49d2-a99c-0c63aa3c0d2f\">\n",
              "  <button class=\"colab-df-quickchart\" onclick=\"quickchart('df-867e495a-cb39-49d2-a99c-0c63aa3c0d2f')\"\n",
              "            title=\"Suggest charts\"\n",
              "            style=\"display:none;\">\n",
              "\n",
              "<svg xmlns=\"http://www.w3.org/2000/svg\" height=\"24px\"viewBox=\"0 0 24 24\"\n",
              "     width=\"24px\">\n",
              "    <g>\n",
              "        <path d=\"M19 3H5c-1.1 0-2 .9-2 2v14c0 1.1.9 2 2 2h14c1.1 0 2-.9 2-2V5c0-1.1-.9-2-2-2zM9 17H7v-7h2v7zm4 0h-2V7h2v10zm4 0h-2v-4h2v4z\"/>\n",
              "    </g>\n",
              "</svg>\n",
              "  </button>\n",
              "\n",
              "<style>\n",
              "  .colab-df-quickchart {\n",
              "      --bg-color: #E8F0FE;\n",
              "      --fill-color: #1967D2;\n",
              "      --hover-bg-color: #E2EBFA;\n",
              "      --hover-fill-color: #174EA6;\n",
              "      --disabled-fill-color: #AAA;\n",
              "      --disabled-bg-color: #DDD;\n",
              "  }\n",
              "\n",
              "  [theme=dark] .colab-df-quickchart {\n",
              "      --bg-color: #3B4455;\n",
              "      --fill-color: #D2E3FC;\n",
              "      --hover-bg-color: #434B5C;\n",
              "      --hover-fill-color: #FFFFFF;\n",
              "      --disabled-bg-color: #3B4455;\n",
              "      --disabled-fill-color: #666;\n",
              "  }\n",
              "\n",
              "  .colab-df-quickchart {\n",
              "    background-color: var(--bg-color);\n",
              "    border: none;\n",
              "    border-radius: 50%;\n",
              "    cursor: pointer;\n",
              "    display: none;\n",
              "    fill: var(--fill-color);\n",
              "    height: 32px;\n",
              "    padding: 0;\n",
              "    width: 32px;\n",
              "  }\n",
              "\n",
              "  .colab-df-quickchart:hover {\n",
              "    background-color: var(--hover-bg-color);\n",
              "    box-shadow: 0 1px 2px rgba(60, 64, 67, 0.3), 0 1px 3px 1px rgba(60, 64, 67, 0.15);\n",
              "    fill: var(--button-hover-fill-color);\n",
              "  }\n",
              "\n",
              "  .colab-df-quickchart-complete:disabled,\n",
              "  .colab-df-quickchart-complete:disabled:hover {\n",
              "    background-color: var(--disabled-bg-color);\n",
              "    fill: var(--disabled-fill-color);\n",
              "    box-shadow: none;\n",
              "  }\n",
              "\n",
              "  .colab-df-spinner {\n",
              "    border: 2px solid var(--fill-color);\n",
              "    border-color: transparent;\n",
              "    border-bottom-color: var(--fill-color);\n",
              "    animation:\n",
              "      spin 1s steps(1) infinite;\n",
              "  }\n",
              "\n",
              "  @keyframes spin {\n",
              "    0% {\n",
              "      border-color: transparent;\n",
              "      border-bottom-color: var(--fill-color);\n",
              "      border-left-color: var(--fill-color);\n",
              "    }\n",
              "    20% {\n",
              "      border-color: transparent;\n",
              "      border-left-color: var(--fill-color);\n",
              "      border-top-color: var(--fill-color);\n",
              "    }\n",
              "    30% {\n",
              "      border-color: transparent;\n",
              "      border-left-color: var(--fill-color);\n",
              "      border-top-color: var(--fill-color);\n",
              "      border-right-color: var(--fill-color);\n",
              "    }\n",
              "    40% {\n",
              "      border-color: transparent;\n",
              "      border-right-color: var(--fill-color);\n",
              "      border-top-color: var(--fill-color);\n",
              "    }\n",
              "    60% {\n",
              "      border-color: transparent;\n",
              "      border-right-color: var(--fill-color);\n",
              "    }\n",
              "    80% {\n",
              "      border-color: transparent;\n",
              "      border-right-color: var(--fill-color);\n",
              "      border-bottom-color: var(--fill-color);\n",
              "    }\n",
              "    90% {\n",
              "      border-color: transparent;\n",
              "      border-bottom-color: var(--fill-color);\n",
              "    }\n",
              "  }\n",
              "</style>\n",
              "\n",
              "  <script>\n",
              "    async function quickchart(key) {\n",
              "      const quickchartButtonEl =\n",
              "        document.querySelector('#' + key + ' button');\n",
              "      quickchartButtonEl.disabled = true;  // To prevent multiple clicks.\n",
              "      quickchartButtonEl.classList.add('colab-df-spinner');\n",
              "      try {\n",
              "        const charts = await google.colab.kernel.invokeFunction(\n",
              "            'suggestCharts', [key], {});\n",
              "      } catch (error) {\n",
              "        console.error('Error during call to suggestCharts:', error);\n",
              "      }\n",
              "      quickchartButtonEl.classList.remove('colab-df-spinner');\n",
              "      quickchartButtonEl.classList.add('colab-df-quickchart-complete');\n",
              "    }\n",
              "    (() => {\n",
              "      let quickchartButtonEl =\n",
              "        document.querySelector('#df-867e495a-cb39-49d2-a99c-0c63aa3c0d2f button');\n",
              "      quickchartButtonEl.style.display =\n",
              "        google.colab.kernel.accessAllowed ? 'block' : 'none';\n",
              "    })();\n",
              "  </script>\n",
              "</div>\n",
              "\n",
              "    </div>\n",
              "  </div>\n"
            ],
            "application/vnd.google.colaboratory.intrinsic+json": {
              "type": "dataframe",
              "variable_name": "data",
              "summary": "{\n  \"name\": \"data\",\n  \"rows\": 40000,\n  \"fields\": [\n    {\n      \"column\": \"S1\",\n      \"properties\": {\n        \"dtype\": \"int32\",\n        \"num_unique_values\": 4,\n        \"samples\": [\n          2,\n          4,\n          1\n        ],\n        \"semantic_type\": \"\",\n        \"description\": \"\"\n      }\n    },\n    {\n      \"column\": \"C1\",\n      \"properties\": {\n        \"dtype\": \"int32\",\n        \"num_unique_values\": 13,\n        \"samples\": [\n          3,\n          12,\n          2\n        ],\n        \"semantic_type\": \"\",\n        \"description\": \"\"\n      }\n    },\n    {\n      \"column\": \"S2\",\n      \"properties\": {\n        \"dtype\": \"int32\",\n        \"num_unique_values\": 4,\n        \"samples\": [\n          2,\n          4,\n          1\n        ],\n        \"semantic_type\": \"\",\n        \"description\": \"\"\n      }\n    },\n    {\n      \"column\": \"C2\",\n      \"properties\": {\n        \"dtype\": \"int32\",\n        \"num_unique_values\": 13,\n        \"samples\": [\n          8,\n          1,\n          4\n        ],\n        \"semantic_type\": \"\",\n        \"description\": \"\"\n      }\n    },\n    {\n      \"column\": \"S3\",\n      \"properties\": {\n        \"dtype\": \"int32\",\n        \"num_unique_values\": 4,\n        \"samples\": [\n          2,\n          4,\n          1\n        ],\n        \"semantic_type\": \"\",\n        \"description\": \"\"\n      }\n    },\n    {\n      \"column\": \"C3\",\n      \"properties\": {\n        \"dtype\": \"int32\",\n        \"num_unique_values\": 13,\n        \"samples\": [\n          1,\n          12,\n          5\n        ],\n        \"semantic_type\": \"\",\n        \"description\": \"\"\n      }\n    },\n    {\n      \"column\": \"S4\",\n      \"properties\": {\n        \"dtype\": \"int32\",\n        \"num_unique_values\": 4,\n        \"samples\": [\n          2,\n          4,\n          1\n        ],\n        \"semantic_type\": \"\",\n        \"description\": \"\"\n      }\n    },\n    {\n      \"column\": \"C4\",\n      \"properties\": {\n        \"dtype\": \"int32\",\n        \"num_unique_values\": 13,\n        \"samples\": [\n          8,\n          12,\n          3\n        ],\n        \"semantic_type\": \"\",\n        \"description\": \"\"\n      }\n    },\n    {\n      \"column\": \"S5\",\n      \"properties\": {\n        \"dtype\": \"int32\",\n        \"num_unique_values\": 4,\n        \"samples\": [\n          2,\n          4,\n          1\n        ],\n        \"semantic_type\": \"\",\n        \"description\": \"\"\n      }\n    },\n    {\n      \"column\": \"C5\",\n      \"properties\": {\n        \"dtype\": \"int32\",\n        \"num_unique_values\": 13,\n        \"samples\": [\n          3,\n          1,\n          6\n        ],\n        \"semantic_type\": \"\",\n        \"description\": \"\"\n      }\n    },\n    {\n      \"column\": \"CLASS\",\n      \"properties\": {\n        \"dtype\": \"number\",\n        \"std\": 1,\n        \"min\": 0,\n        \"max\": 9,\n        \"num_unique_values\": 10,\n        \"samples\": [\n          6,\n          9,\n          2\n        ],\n        \"semantic_type\": \"\",\n        \"description\": \"\"\n      }\n    }\n  ]\n}"
            }
          },
          "metadata": {},
          "execution_count": 10
        }
      ],
      "source": [
        "# View the last 5 records of our data set\n",
        "\n",
        "data.head(5)"
      ]
    },
    {
      "cell_type": "code",
      "execution_count": 11,
      "id": "1bd1fe50",
      "metadata": {
        "colab": {
          "base_uri": "https://localhost:8080/"
        },
        "id": "1bd1fe50",
        "outputId": "77ed9a10-b90b-474a-fb8c-03c31101ae5a"
      },
      "outputs": [
        {
          "output_type": "stream",
          "name": "stdout",
          "text": [
            "{0: 8443, 1: 8372, 2: 8462, 3: 8529, 4: 3204, 5: 1614, 6: 1160, 7: 191, 8: 17, 9: 8}\n"
          ]
        }
      ],
      "source": [
        "# Let's count how many poker hands belong to each type\n",
        "\n",
        "num_classes = 10  # we have 10 classes of poker hand types\n",
        "class_count = {}\n",
        "for i in range(num_classes):\n",
        "    class_count[i] = len(data[data.CLASS==i])\n",
        "\n",
        "print(class_count)"
      ]
    },
    {
      "cell_type": "markdown",
      "id": "a286670f",
      "metadata": {
        "cell_marker": "\"\"\"",
        "id": "a286670f"
      },
      "source": [
        "* This is hardly readable.\n",
        "* Let's translate it to a more human readable form."
      ]
    },
    {
      "cell_type": "code",
      "execution_count": 12,
      "id": "0239696c",
      "metadata": {
        "colab": {
          "base_uri": "https://localhost:8080/"
        },
        "id": "0239696c",
        "outputId": "a7a779cc-e6e8-4fe0-97e6-124f70303696"
      },
      "outputs": [
        {
          "output_type": "stream",
          "name": "stdout",
          "text": [
            "Nothing in hand: 8443\n",
            "One pair: 8372\n",
            "Two pairs: 8462\n",
            "Three of a kind: 8529\n",
            "Straight: 3204\n",
            "Flush: 1614\n",
            "Full house: 1160\n",
            "Four of a kind: 191\n",
            "Straight flush: 17\n",
            "Royal flush: 8\n"
          ]
        }
      ],
      "source": [
        "for i in poker_hand_types:\n",
        "    print(\"%s: %d\" % (hand_name[i], class_count[i]))"
      ]
    },
    {
      "cell_type": "markdown",
      "id": "b14e7fb2",
      "metadata": {
        "cell_marker": "\"\"\"",
        "id": "b14e7fb2"
      },
      "source": [
        "* The classes are imbalanced, which usually does not help the training process.\n",
        "* But there's not much we can do:\n",
        "  * There are only 17 **Straight Flush** hands in the Poker game,\n",
        "  * and only 8 **Royal Flush** hands.\n",
        "* Your neural network will learn a lot about \"One Pair\" (8372 hands)\n",
        "* but very little about \"Royal Flash\" (only 8 hands).\n",
        "  \n",
        "* It is usually a good practice to keep this in mind and draw a class distribution bar chart\n",
        "  before you start building and training deep learning models.\n",
        "* The bar chart will give you a thick visual clue regarding imbalance."
      ]
    },
    {
      "cell_type": "code",
      "execution_count": 13,
      "id": "c37eaaab",
      "metadata": {
        "colab": {
          "base_uri": "https://localhost:8080/",
          "height": 405
        },
        "id": "c37eaaab",
        "outputId": "8a760bd0-3092-45aa-fa0a-a490b02b482e"
      },
      "outputs": [
        {
          "output_type": "execute_result",
          "data": {
            "text/plain": [
              "Text(0, 0.5, 'Number of instances')"
            ]
          },
          "metadata": {},
          "execution_count": 13
        },
        {
          "output_type": "display_data",
          "data": {
            "text/plain": [
              "<Figure size 400x400 with 1 Axes>"
            ],
            "image/png": "[encoded data removed]"
          },
          "metadata": {}
        }
      ],
      "source": [
        "plt.figure(figsize=(4,4))\n",
        "plt.bar(poker_hand_types, [class_count[i] for i in poker_hand_types], align='center')\n",
        "plt.xlabel('Poker hand id')\n",
        "plt.ylabel('Number of instances')"
      ]
    },
    {
      "cell_type": "markdown",
      "id": "9d98d920",
      "metadata": {
        "cell_marker": "\"\"\"",
        "lines_to_next_cell": 2,
        "id": "9d98d920"
      },
      "source": [
        "## **Your Mission**\n",
        "\n",
        "Now that you have your datasets ready, your project is to build a\n",
        "convolutional neural network for recognizing these Poker hands.  \n",
        "1. Make sure you don't use too many paramaters. Try to stay below half million.\n",
        "2. Make sure you don't use too many layers. Try not to go beyond 12.\n",
        "3. Make sure your model is trainable in a reasonable time (like a week).\n",
        "An upper bound of 10 to 20 hours is reasonable. Anythong beyond two days is unreasonable.\n",
        "This is assuming you are using a decent GPU card.\n",
        "Otherwise don't try it on your CPU (it can take forever).\n",
        "4. Analyze the cases in which your model makes a false prediction.\n",
        "\n",
        "# **Additional Ideas for Course Projects**\n",
        "\n",
        "It could happen that our database is not big enough\n",
        "for training a neural network to predict\n",
        "the Poker hand type in a very high precision.\n",
        "We can start with an easier challenges like building high precision neural networks to:  \n",
        "1. Predict if a Poker hand contains a specific card like Ace Diamond (boolean 0 or 1)\n",
        "2. Predict if a Poker hand contains two specific cards (like 10 spades, and 5 hearts).\n",
        "3. Predict if a Poker hand contains a pair of cards with the same rank (just one pair, nothing more)\n",
        "4. Predict how many times a specific rank appears. Like how many Aces in the hand (0,1,2,3,4)?\n",
        "5. There are plenty of other such challenges an instructor can invent. You get the idea ...\n",
        "\n",
        "It would be interesting to compare the complexities of the\n",
        "various neural networks for solving these problems.\n",
        "\n",
        "Note that you may need extract special training\n",
        "and validation datasets for each problem.\n",
        "So you will have to unfold the images from the above datasets\n",
        "and reorganize them to suite your problem (which is another challenge by itself).\n",
        "Or you may want to create your own set of poker hands from the 52 cards deck.\n",
        "We will later add a section for describing how to do it."
      ]
    }
  ],
  "metadata": {
    "jupytext": {
      "cell_metadata_filter": "-all",
      "main_language": "python",
      "notebook_metadata_filter": "-all"
    },
    "colab": {
      "provenance": [],
      "include_colab_link": true
    },
    "language_info": {
      "name": "python"
    },
    "kernelspec": {
      "name": "python3",
      "display_name": "Python 3"
    }
  },
  "nbformat": 4,
  "nbformat_minor": 5
}